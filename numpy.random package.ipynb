{
 "cells": [
  {
   "cell_type": "markdown",
   "metadata": {},
   "source": [
    "# Exploration of the numpy.random package:\n",
    "\n",
    "<span style=\"font-size:16px;\">__Overall Purpose of the numpy.random package:__</span>\n",
    "\n",
    "The overall purpose of the numpy.random package is to generate random numbers.\n",
    "Possible reasons for generating random numbers are to simulate data that is inaccessible, or to create data in order to practice data representation.\n",
    "\n",
    "Below I will explore several functions of the numpy.random package to demonstrate what they do and how they work."
   ]
  },
  {
   "cell_type": "markdown",
   "metadata": {},
   "source": [
    "<div style=\"font-size:18px;\">The first sampling of numpy functions to demonstrate is a set of functions called simple random data.\n",
    "These are integers, random, choice, and bytes.</div>"
   ]
  },
  {
   "cell_type": "markdown",
   "metadata": {},
   "source": [
    "<span style=\"font-size:16px;\">__Integers:__</span>"
   ]
  },
  {
   "cell_type": "code",
   "execution_count": 1,
   "metadata": {},
   "outputs": [
    {
     "data": {
      "text/plain": [
       "array([2, 2, 0, 3, 0, 3, 3, 0, 2, 2])"
      ]
     },
     "execution_count": 1,
     "metadata": {},
     "output_type": "execute_result"
    }
   ],
   "source": [
    "import numpy as np\n",
    "rng = np.random.default_rng()\n",
    "rng.integers(4, size=10)\n",
    "\n",
    "#A random array of 10 integers up to, but not including, 4 was generated in the output.\n"
   ]
  },
  {
   "cell_type": "markdown",
   "metadata": {},
   "source": [
    "<span style=\"font-size:16px;\">__Random:__</span>"
   ]
  },
  {
   "cell_type": "code",
   "execution_count": 1,
   "metadata": {},
   "outputs": [
    {
     "data": {
      "text/plain": [
       "0.6564531657861813"
      ]
     },
     "execution_count": 1,
     "metadata": {},
     "output_type": "execute_result"
    }
   ],
   "source": [
    "import numpy as np\n",
    "rng = np.random.default_rng()\n",
    "rng.random()\n",
    "\n",
    "#Generates a random number as a float."
   ]
  },
  {
   "cell_type": "code",
   "execution_count": 3,
   "metadata": {},
   "outputs": [
    {
     "data": {
      "text/plain": [
       "array([0.49980091, 0.93818459, 0.62088411, 0.04061112, 0.53066427])"
      ]
     },
     "execution_count": 3,
     "metadata": {},
     "output_type": "execute_result"
    }
   ],
   "source": [
    "type(rng.random())\n",
    "rng.random((5,))\n",
    "\n",
    "#Generates an array of 5 floats. \n",
    "#If you choose a different number, like 3 for example, you would get an array of three floats."
   ]
  },
  {
   "cell_type": "code",
   "execution_count": 5,
   "metadata": {},
   "outputs": [
    {
     "data": {
      "text/plain": [
       "array([[-3.90487368, -2.57438514],\n",
       "       [-1.61396644, -1.09116634],\n",
       "       [-2.36571758, -0.27617533]])"
      ]
     },
     "execution_count": 5,
     "metadata": {},
     "output_type": "execute_result"
    }
   ],
   "source": [
    "#You can also create a three by two array with the following:\n",
    "#This method gives you an array of two columns of random floats up to, but not including, 4.\n",
    "\n",
    "4 * rng.random((3, 2)) - 4"
   ]
  },
  {
   "cell_type": "markdown",
   "metadata": {},
   "source": [
    "<span style=\"font-size:16px;\">__Choice:__</span>"
   ]
  },
  {
   "cell_type": "code",
   "execution_count": 2,
   "metadata": {},
   "outputs": [
    {
     "data": {
      "text/plain": [
       "array([4, 2, 4, 1])"
      ]
     },
     "execution_count": 2,
     "metadata": {},
     "output_type": "execute_result"
    }
   ],
   "source": [
    "#This function allows us to specify probability for each value.\n",
    "\n",
    "import numpy as np\n",
    "rng = np.random.default_rng()\n",
    "rng.choice(7, 4)\n",
    "\n",
    "#Outputs an array of 4 integers up to but never including 7"
   ]
  },
  {
   "cell_type": "code",
   "execution_count": 31,
   "metadata": {},
   "outputs": [
    {
     "data": {
      "text/plain": [
       "array([4, 4, 4, 4, 2, 4, 4, 4, 2, 2, 2, 4, 4, 2, 2, 4, 4, 4, 4, 2, 2, 4,\n",
       "       2, 2, 2, 4, 2, 2, 4, 2, 4, 4, 4, 4, 4, 4, 4, 4, 4, 4, 4, 4, 4, 2,\n",
       "       4, 4, 4, 4, 4, 2, 4, 4, 2, 2, 4, 2, 4, 2, 4, 4, 4, 4, 2, 4, 4, 2,\n",
       "       4, 4, 4, 4, 2, 4, 4, 4, 2, 4, 4, 4, 4, 4, 4, 4, 4, 2, 4, 2, 4, 4,\n",
       "       4, 4, 4, 2, 2, 4, 4, 4, 4, 2, 4, 2])"
      ]
     },
     "execution_count": 31,
     "metadata": {},
     "output_type": "execute_result"
    }
   ],
   "source": [
    "import numpy as np\n",
    "rng = np.random.default_rng()\n",
    "rng.choice(7, 4)\n",
    "rng.choice(([4, 2, 4, 1]), p=([0.1, 0.3, 0.6, 0.0]), size=(100))\n",
    "\n",
    "#Output is a 1-D Array containing 100 values where each value has to be 4,2, or 1.\n",
    "#4 is assigned to 0.1, 2 to 0.3, 4 again to 0.6, and 1 to 0.0\n",
    "#p always needs to be equal to 1\n"
   ]
  },
  {
   "cell_type": "code",
   "execution_count": 38,
   "metadata": {},
   "outputs": [
    {
     "data": {
      "text/plain": [
       "array(['Beethoven', 'Handel', 'Bach', 'Bach', 'Mozart'], dtype='<U9')"
      ]
     },
     "execution_count": 38,
     "metadata": {},
     "output_type": "execute_result"
    }
   ],
   "source": [
    "#You don't have to use only numbers for the arrays, but can also use lists.\n",
    "\n",
    "import numpy as np\n",
    "composers_arr = ['Mozart' , 'Bach' , 'Handel' , 'Beethoven' , 'Haydn' , 'Vivaldi']\n",
    "rng.choice(composers_arr, 5 , p=([0.2, 0.1, 0.1, 0.1, 0.2, 0.3]))\n"
   ]
  },
  {
   "cell_type": "markdown",
   "metadata": {},
   "source": [
    "<span style=\"font-size:16px;\">__Bytes:__</span>"
   ]
  },
  {
   "cell_type": "code",
   "execution_count": 1,
   "metadata": {},
   "outputs": [
    {
     "data": {
      "text/plain": [
       "b'\\xe6\\x97\\xe2\\xb0h\\xc5\\xe4a\\xf80\\xa1\\x1b!M\\xed\\x8e\\x85\\x0e%\\xa3'"
      ]
     },
     "execution_count": 1,
     "metadata": {},
     "output_type": "execute_result"
    }
   ],
   "source": [
    "#This function returns random bytes\n",
    "\n",
    "import numpy as np\n",
    "np.random.default_rng().bytes(20)"
   ]
  },
  {
   "cell_type": "markdown",
   "metadata": {},
   "source": [
    "<div style=\"font-size:18px;\">The second sampling of Numpy functions to demonstrate are the two permutations functions: shuffle and permutation.</div>"
   ]
  },
  {
   "cell_type": "markdown",
   "metadata": {},
   "source": [
    "<span style=\"font-size:16px;\">__Shuffle:__</span>"
   ]
  },
  {
   "cell_type": "code",
   "execution_count": 3,
   "metadata": {},
   "outputs": [
    {
     "data": {
      "text/plain": [
       "array([ 0,  1,  2,  3,  4,  5,  6,  7,  8,  9, 10, 11])"
      ]
     },
     "execution_count": 3,
     "metadata": {},
     "output_type": "execute_result"
    }
   ],
   "source": [
    "#The shuffle method allows us to change or shuffle the elements in an array, but the contents stay the same.\n",
    "\n",
    "import numpy as np\n",
    "rng = np.random.default_rng()\n",
    "arr = np.arange(12)\n",
    "#rng.shuffle(arr)\n",
    "arr\n",
    "\n",
    "#Here, there is a random array of integers up to but not including 12"
   ]
  },
  {
   "cell_type": "code",
   "execution_count": 4,
   "metadata": {},
   "outputs": [
    {
     "data": {
      "text/plain": [
       "array([ 6,  0,  8,  2,  7,  1,  3, 10,  9, 11,  4,  5])"
      ]
     },
     "execution_count": 4,
     "metadata": {},
     "output_type": "execute_result"
    }
   ],
   "source": [
    "import numpy as np\n",
    "rng = np.random.default_rng()\n",
    "arr = np.arange(12)\n",
    "rng.shuffle(arr) #By adding the Shuffle method, we've changed the order of the integers in the array.\n",
    "arr"
   ]
  },
  {
   "cell_type": "markdown",
   "metadata": {},
   "source": [
    "A practical/real world usage for the shuffle method would be for the lottery.\n",
    "You draw a set number of lotto balls with numbers on them, 6 numbers for example, out of 100.\n",
    "You could use the shuffle method to choose the 6 random numbers:"
   ]
  },
  {
   "cell_type": "code",
   "execution_count": 2,
   "metadata": {},
   "outputs": [
    {
     "data": {
      "text/plain": [
       "('The lotto numbers are', array([35, 87, 68, 48, 50, 99]))"
      ]
     },
     "execution_count": 2,
     "metadata": {},
     "output_type": "execute_result"
    }
   ],
   "source": [
    "import numpy as np\n",
    "lotto = list(range(1, 100)) #create a list of 100 numbers\n",
    "x = np.array(lotto) #convert to a numpy array\n",
    "np.random.shuffle(x) #shuffle the numbers\n",
    "x\n",
    "draw = x[0:6] #output first 6 random numbers\n",
    "'The lotto numbers are', draw # dispay the lotto numbers"
   ]
  },
  {
   "cell_type": "markdown",
   "metadata": {},
   "source": [
    "<span style=\"font-size:16px;\">__Permutations:__</span>"
   ]
  },
  {
   "cell_type": "code",
   "execution_count": 2,
   "metadata": {},
   "outputs": [
    {
     "data": {
      "text/plain": [
       "array([ 0,  1,  2,  3,  4,  5,  6,  7,  8,  9, 10, 11, 12, 13, 14])"
      ]
     },
     "execution_count": 2,
     "metadata": {},
     "output_type": "execute_result"
    }
   ],
   "source": [
    "#The permutations method makes a copy of the original array and then returns a rearrangement of it.\n",
    "\n",
    "import numpy as np\n",
    "rng = np.random.default_rng()\n",
    "arr = np.arange(15)\n",
    "arr #random array"
   ]
  },
  {
   "cell_type": "code",
   "execution_count": 4,
   "metadata": {},
   "outputs": [
    {
     "data": {
      "text/plain": [
       "array([ 0, 11, 13,  9,  1,  5,  7,  3,  4,  2,  8, 14, 12,  6, 10])"
      ]
     },
     "execution_count": 4,
     "metadata": {},
     "output_type": "execute_result"
    }
   ],
   "source": [
    "import numpy as np\n",
    "rng = np.random.default_rng()\n",
    "arr = np.arange(15)\n",
    "rng.permutation(15) #rearranged array"
   ]
  },
  {
   "cell_type": "markdown",
   "metadata": {},
   "source": [
    "A practical usage for the permutations method would be when generating a good password for a computer or website."
   ]
  },
  {
   "cell_type": "code",
   "execution_count": 7,
   "metadata": {},
   "outputs": [
    {
     "name": "stdout",
     "output_type": "stream",
     "text": [
      "Password is= ['t' 'G' '8' '1' 'z' 'J' '4' '6']\n"
     ]
    }
   ],
   "source": [
    "import numpy as np\n",
    "letnumb = np.array(['1', 'n', 'z', 'h', 't', '8', 'J', 'K', '6', '4', '9', 'G'])\n",
    "password = np.random.permutation(letnumb)\n",
    "print('Password is=', password[1:9])"
   ]
  },
  {
   "cell_type": "markdown",
   "metadata": {},
   "source": [
    "<div style=\"font-size:18px;\">The final set of functions in the numpy.random package that will be explored in this task is the Distributions set of functions.\n",
    "\n",
    "There are several Distributions functions, on each of which a person could complete a PhD, in the numpy.random package.\n",
    "\n",
    "For the purpose of this project, I will explore 5: Normal Distribution, Poisson Distribution, Exponential Distribution, Binomial Distribution, and Uniform Distribution</div>"
   ]
  },
  {
   "cell_type": "markdown",
   "metadata": {},
   "source": [
    "<span style=\"font-size:16px;\">__Normal Distribution:__</span>\n",
    "\n",
    "Also known as the Gaussian Distribution, named after German mathematician Carl Friedrich Gauss, the Normal Distribution is probably the most important distribution function, as it can be used in a myriad situations ranging from test scores, heartbeats, sports teams scores etc.\n",
    "\n",
    "This function has three parameters: \n",
    "\n",
    "- loc - or the mean\n",
    "- scale - or standard deviation\n",
    "- size - or shape of the array\n",
    "\n",
    "The Normal Distribution function is also called 'The Bell Curve\" due to the shape it creates on a graph.\n",
    "\n",
    "A practical example where one could use this function is when a teacher is trying to decipher the probabilities of  test scores of her students.\n"
   ]
  },
  {
   "cell_type": "code",
   "execution_count": 15,
   "metadata": {},
   "outputs": [
    {
     "data": {
      "image/png": "[encoded data removed]",
      "text/plain": [
       "<Figure size 432x288 with 1 Axes>"
      ]
     },
     "metadata": {
      "needs_background": "light"
     },
     "output_type": "display_data"
    }
   ],
   "source": [
    "#Code showing practical example mentioned above\n",
    "from numpy import random\n",
    "import matplotlib.pyplot as plt\n",
    "import seaborn as sns\n",
    "\n",
    "x = random.normal(loc=70, scale=3, size=(1, 30))#70 is average test score, 3 is std deviation,30 is num of students\n",
    "sns.distplot(x, hist=False)\n",
    "\n",
    "plt.title('Normal Distribution')\n",
    "plt.xlabel('Test Scores')\n",
    "plt.ylabel('p(x)')\n",
    "\n",
    "plt.show()\n"
   ]
  },
  {
   "cell_type": "markdown",
   "metadata": {},
   "source": [
    "__Analysis:__ What we can see in this graph is that about 10% of students had a probability of scoring between 66% and 75% on their test."
   ]
  },
  {
   "cell_type": "markdown",
   "metadata": {},
   "source": [
    "<span style=\"font-size:16px;\">__Poisson Distribution:__</span>\n",
    "\n",
    "The Poisson Distribution function is a probability distribution which shows the probability of events occuring at regular intervals when the events are independent of eachother.\n",
    "\n",
    "It is named after French mathematician Siméon Denis Poisson. https://en.wikipedia.org/wiki/Sim%C3%A9on_Denis_Poisson\n",
    "\n",
    "There are two parameters for the Poisson Distribution function:\n",
    "\n",
    "- lam - the rate of known occurences of an event\n",
    "- size - shape of the returned array (optional parameter)\n",
    "\n",
    "Just for fun, the Poisson formula is:\n",
    "\n",
    "P(x; μ) = (e-μ) (μx) / x!\n",
    "\n",
    "The average number of successes within a given region is μ.\n",
    "\n",
    "x is the actual number of successes that result from the experiment, and e is approximately equal to 2.71828.\n",
    "\n",
    "e is Euler's number, a mathematical constant.\n",
    "\n",
    "Below I have created a Poisson experiment using Numpy.\n"
   ]
  },
  {
   "cell_type": "code",
   "execution_count": 1,
   "metadata": {},
   "outputs": [
    {
     "name": "stdout",
     "output_type": "stream",
     "text": [
      "[66]\n"
     ]
    }
   ],
   "source": [
    "#Experiment: on an average sea safari in Summer in Ireland, you will see 4 dolphins per day.\n",
    "#What's the probability of seeing 7 dolphins on a given day?\n",
    "\n",
    "import numpy as np\n",
    "\n",
    "#count number of days in an Irish Summer\n",
    "Summer = np.busday_count(begindates=['2020-05-01'], enddates=['2020-08-01'])\n",
    "\n",
    "print(Summer)\n",
    "\n",
    "#66 days in an Irish Summer"
   ]
  },
  {
   "cell_type": "code",
   "execution_count": 20,
   "metadata": {},
   "outputs": [
    {
     "data": {
      "image/png": "[encoded data removed]",
      "text/plain": [
       "<Figure size 432x288 with 1 Axes>"
      ]
     },
     "metadata": {
      "needs_background": "light"
     },
     "output_type": "display_data"
    }
   ],
   "source": [
    "#Experiment: on an average sea safari in Summer in Ireland, you will see 4 dolphins per day.\n",
    "#What's the probability of seeing 7 dolphins on a given day?\n",
    "\n",
    "import numpy as np\n",
    "\n",
    "#count number of days in an Irish Summer\n",
    "SummerDays = np.busday_count(begindates=['2020-05-01'], enddates=['2020-08-01'])\n",
    "\n",
    "s = np.random.poisson(4, SummerDays)\n",
    "\n",
    "import matplotlib.pyplot as plt\n",
    "count, bins, ignored = plt.hist(s, 10, density=True)\n",
    "\n",
    "\n",
    "plt.ylabel(\"% Probability\")\n",
    "plt.title(\"Probability of Number of Dolphins Seen During Sea Safari in Summer 2020\")\n",
    "plt.xlabel('Number of Dolphins')\n",
    "plt.grid(True)\n",
    "plt.show()\n",
    "\n"
   ]
  },
  {
   "cell_type": "markdown",
   "metadata": {},
   "source": [
    "__Analysis:__ What we can see from this graph is that there is a 0.06 percent probability that you will see 7 dolphins on sea safari. You are most likely to see 5 dolphins (~0.25% probability). Luckily for you, and especially for the dolphins, there is a 0% probability of seeing 4.5 dolphins whilst on sea safari in Ireland in Summer 2020. Finally, it is also unlikely for you to see 0 dolphins."
   ]
  },
  {
   "cell_type": "markdown",
   "metadata": {},
   "source": [
    "<span style=\"font-size:16px;\">__Exponential Distribution:__</span>\n",
    "\n",
    "Exponential Distribution is the probability distribution of time between events, ie; time between earthquakes, volcano eruptions, lifetime of a product, dolphin sightings etc.\n",
    "\n",
    "It is related to Poisson Distribution in that Poisson corresponds to the number of occurances for an event in a given time period, and Exponential deals with the time itself between these events.\n",
    "\n",
    "Using the dolphin sighting experiment from above, let's now explore the probability percentage of the time between dolphin sightings on sea safari in Summer 2020 in Ireland.\n",
    "\n"
   ]
  },
  {
   "cell_type": "code",
   "execution_count": 8,
   "metadata": {},
   "outputs": [
    {
     "name": "stdout",
     "output_type": "stream",
     "text": [
      "[4 1 2 1 2 1 1 0 1 1 0 1 0 0 0 0 0 0 1 1 0 0 1 0 2 2 1 0 1 1 2 2 0 2 2 2 2\n",
      " 2 1 0 0 0 2 1 1 0 0 3 2 1 1 2 1 3 3 2 1 0 0 0 0 0 0 0 0 1]\n",
      "0.9696969696969697\n",
      "[0.0045153  1.80700773 1.11959498 1.38902519 0.82958317 0.77511994\n",
      " 0.24578543 0.22936765 1.40223149 1.1130951  0.24820145 0.43281391\n",
      " 0.19010317 0.05451702 0.34787404 1.16243956 1.08993067 0.01473698\n",
      " 0.28440113 0.28101835 0.94566709 0.09514852 0.34521412 0.79428566\n",
      " 0.03196293 0.37326507 0.68589929 0.98313391 0.73283687 0.90533651\n",
      " 0.6190685  0.54598294 0.58115555 1.8076207  0.97727347 0.75232055\n",
      " 1.42253572 0.2959548  0.6064811  0.485458   1.46898577 0.16482336\n",
      " 0.26198501 2.75487876 2.6856126  1.65277318 0.26844925 1.41689648\n",
      " 1.19700664 1.18354533 0.18588612 0.81910471 0.06643177 0.77079543\n",
      " 0.31570809 1.40050577 0.09111159 0.79773365 0.20670599 0.93271495\n",
      " 0.20032306 1.02576015 0.01863825 0.42838224 0.18001121 0.08475415]\n"
     ]
    },
    {
     "data": {
      "image/png": "[encoded data removed]",
      "text/plain": [
       "<Figure size 432x288 with 1 Axes>"
      ]
     },
     "metadata": {
      "needs_background": "light"
     },
     "output_type": "display_data"
    }
   ],
   "source": [
    "import numpy as np\n",
    "\n",
    "#count number of dolphin sightings in an Irish Summer\n",
    "DolphinSightings = np.busday_count(begindates=['2020-05-01'], enddates=['2020-08-01'])\n",
    "\n",
    "s = np.random.poisson(1, DolphinSightings)#find array of dolphin sightings during above time period\n",
    "                                          #assuming average would be one sighting per day\n",
    "print(s)\n",
    "\n",
    "r = np.mean(s) #Find mean of array \n",
    "print(r)\n",
    "\n",
    "t = np.random.exponential(r, DolphinSightings)#Find out time in days between dolphin sightings\n",
    "print(t)\n",
    "\n",
    "from numpy import random\n",
    "import matplotlib.pyplot as plt\n",
    "import seaborn as sns\n",
    "\n",
    "sns.distplot(random.exponential(size=1000), hist=False)\n",
    "\n",
    "\n",
    "plt.ylabel(\"% Probability\")\n",
    "plt.title(\"Probability of Time Between Dolphin Sightings\")\n",
    "plt.xlabel('Number of Days Between Dolphin Sightings')\n",
    "plt.grid(True)\n",
    "plt.show()"
   ]
  },
  {
   "cell_type": "markdown",
   "metadata": {},
   "source": [
    "__Analysis:__\n",
    "What this graph shows us is that the highest percentage probability of time between dolphin sightings is 1 day at 0.6% and it steadily drops off to 0% probability between sightings at 5 days. "
   ]
  },
  {
   "cell_type": "markdown",
   "metadata": {},
   "source": [
    "<span style=\"font-size:16px;\">__Binomial Distribution:__</span>\n",
    "\n",
    "Binomial distribution is a discrete probability distribution of a the number of successes in a sequence of n independent experiments, each asking a yes–no question.\n",
    "\n",
    "The outcome is a Boolean value where success (with probability p) or failure (with probability q = 1 − p).\n",
    "\n",
    "There are three parameters for this distribution:\n",
    "- n - number of trials.\n",
    "- p - probability of occurence of each trial\n",
    "- size - The shape of the returned array.\n",
    "\n",
    "A practical example of the Binomial Distribution function would be a coin toss, where the question would be heads or tails over a certain amount of coin tosses, and the outcome would show how often the result was either heads or tails (or success/failure)."
   ]
  },
  {
   "cell_type": "code",
   "execution_count": 19,
   "metadata": {},
   "outputs": [
    {
     "data": {
      "image/png": "[encoded data removed]",
      "text/plain": [
       "<Figure size 432x288 with 1 Axes>"
      ]
     },
     "metadata": {
      "needs_background": "light"
     },
     "output_type": "display_data"
    }
   ],
   "source": [
    "#use numpy and scipy.stats to analyse coin toss\n",
    "import numpy as np\n",
    "import scipy.stats as ss\n",
    "\n",
    "#Typical coin has a head and a tail, so there's a 50% chance of getting each in a coin toss\n",
    "#Let's say the probability of heads is 0.5 and for tails is 0.5\n",
    "\n",
    "np.random.binomial(1, 0.5, 1) #array for one coin toss\n",
    "                              #assigning 1 for heads and 0 for tails\n",
    "    \n",
    "#Now let's see how many heads we get when we flip the coin 50 times\n",
    "\n",
    "np.random.binomial(50, 0.5, 1)\n",
    "\n",
    "\n",
    "import matplotlib.pyplot as plt\n",
    "import seaborn as sns\n",
    "\n",
    "sns.distplot(np.random.binomial(50, 0.5, 50))#50 coin tosses, 0.5 probability for heads, repeated 50 times\n",
    "\n",
    "plt.ylabel(\"% Probability\")\n",
    "plt.title(\"Occurences of Heads in a Coin Toss of 50 Tosses\")\n",
    "plt.xlabel('Number of Coin Tosses')\n",
    "plt.grid(True)\n",
    "plt.show()"
   ]
  },
  {
   "cell_type": "markdown",
   "metadata": {},
   "source": [
    "__Analysis:__ This graph shows us the number of times a coin toss would result in heads when tossing the coin 50 times and repeating the test 50 times. \n",
    "\n",
    "This shows us that there is a 14% chance of heads being called 25 times for each of the 50 tests.\n"
   ]
  },
  {
   "cell_type": "markdown",
   "metadata": {},
   "source": [
    "<span style=\"font-size:16px;\">__Uniform Distribution:__</span>\n",
    "\n",
    "There are two types of uniform distribution: discrete uniform distribution and continuous uniform distribution.\n",
    "\n",
    "In both types, there are three parameters:\n",
    "\n",
    "- a - lower bound - default 0.0\n",
    "- b - upper bound - default 1.0\n",
    "- size - The shape of the returned array\n",
    "\n",
    "Discrete Uniform Distribution states that the probability of outcomes is equally likely and with finite values.\n",
    "For example, if you roll one die, you have an equal chance of rolling a 1,2,3,4,5, or 6 regardless of how many times you roll the die. It is impossible to roll a 2.3 or a 5.7, there are only the values of 1,2,3,4,5, and 6.\n",
    "\n",
    "Continuous Uniform (or Rectangular) Distribution states that the probability of outcomes is equally likely and with infinite values.\n",
    "For example, if you give a range of numbers to a random number generator, let's say 1 to 100, with continuous uniform distribution, you would have an equal chance drawing ANY number from between the specified range. You could draw a 5 or a 23.89 or a 99.99, or 100. All would have an equal probability of occurring.\n",
    "\n",
    "\n",
    "Let's take a look at these two examples with numpy and some visualisations.\n",
    "\n"
   ]
  },
  {
   "cell_type": "code",
   "execution_count": 5,
   "metadata": {},
   "outputs": [
    {
     "data": {
      "image/png": "[encoded data removed]",
      "text/plain": [
       "<Figure size 432x288 with 1 Axes>"
      ]
     },
     "metadata": {
      "needs_background": "light"
     },
     "output_type": "display_data"
    }
   ],
   "source": [
    "#Example 1: Discrete Uniform Distribution: Single Die Roll \n",
    "import numpy as np\n",
    "s = np.random.default_rng().uniform(1,6,1000)#smallest value, highest value, times rolled\n",
    "#print(s)\n",
    "\n",
    "import matplotlib.pyplot as plt\n",
    "count, bins, ignored = plt.hist(s, 15, density=True)\n",
    "plt.plot(bins, np.ones_like(bins), linewidth=2, color='r')\n",
    "#plt.show()\n",
    "\n",
    "plt.ylabel(\"% Probability\")\n",
    "plt.title(\"Uniform Distribution: Single Die Roll\")\n",
    "plt.xlabel('Values of Six-Sided Die')\n",
    "plt.grid(True)\n",
    "plt.show()"
   ]
  },
  {
   "cell_type": "markdown",
   "metadata": {},
   "source": [
    "__Analysis:__ This graph shows us that for a single six-sided die rolled 1000 times, there is a 100% probability that you will roll a 1,2,3,4,5, or 6."
   ]
  },
  {
   "cell_type": "code",
   "execution_count": 24,
   "metadata": {},
   "outputs": [
    {
     "name": "stdout",
     "output_type": "stream",
     "text": [
      "[40.56875567 66.74733878 19.19295585 57.75521854  2.63056029 99.49347343\n",
      " 53.6890848  63.68552627 95.1377316   4.49847742 37.28167453 62.9945692\n",
      " 97.29441109 49.9887914  33.00048903 14.24275048 68.58302062  2.0325957\n",
      " 82.62453604 79.18005873 60.65946964 73.92023399 24.22203222 68.29892072\n",
      " 82.05330614 69.13225989 71.16229352 21.96921686 11.35467426 44.23671652\n",
      " 57.17901593 49.61998536 93.50625912 72.30548114 19.61744589  8.78178096\n",
      " 85.03196008 64.12839285  7.21315761 21.89146005 34.78147055 97.38090736\n",
      "  5.862399   52.7827931  97.04086892 27.40540917 22.5412585  74.35409764\n",
      " 75.44183902 93.30720129  8.77947518 15.25062634 98.0029233  53.49843264\n",
      " 24.74043537 20.52554924 65.74651718 42.40662391 15.33509631 44.64062903\n",
      " 89.3257081  29.98859031 17.90083587 18.12016017 65.03318781  7.28583145\n",
      " 14.94059372 25.05320012 20.41388272 66.011811   82.79104595 46.08393776\n",
      " 61.26300539 20.84564188 88.43366999 54.01470871 17.54263593 25.89053233\n",
      " 42.43268282  7.79407145 45.46756591 31.51728238 21.57248437 19.31308661\n",
      " 11.47878779 13.26608617 47.56002933 56.47134082 50.17488896 54.96250343\n",
      "  9.05753844 21.28092188 10.77851819 68.45611576 58.67916636 67.60410052\n",
      " 91.57529831 64.79391753 89.91559347 57.57706556]\n"
     ]
    }
   ],
   "source": [
    "#Example 2: Continuous Uniform Distribution: Random Number Generator w/ Range 1 to 100 inclusive\n",
    "\n",
    "import numpy as np\n",
    "\n",
    "#(b - a) * random_sample() + a\n",
    "\n",
    "data = (100 - 1) * np.random.default_rng().random(100) + 1 #use this function to activate random number generator\n",
    "print(data)"
   ]
  },
  {
   "cell_type": "code",
   "execution_count": 27,
   "metadata": {},
   "outputs": [
    {
     "data": {
      "image/png": "[encoded data removed]",
      "text/plain": [
       "<Figure size 432x288 with 1 Axes>"
      ]
     },
     "metadata": {
      "needs_background": "light"
     },
     "output_type": "display_data"
    }
   ],
   "source": [
    "import numpy as np\n",
    "\n",
    "#(b - a) * random_sample() + a\n",
    "\n",
    "data = (100 - 1) * np.random.default_rng().random(100) + 1\n",
    "#print(data)\n",
    "\n",
    "import matplotlib.pyplot as plt\n",
    "count, bins, ignored = plt.hist(data, 15, density=True)\n",
    "plt.plot(bins, np.ones_like(bins), linewidth=2, color='r')\n",
    "#plt.show()\n",
    "\n",
    "plt.ylabel(\"% Probability\")\n",
    "plt.title(\"Uniform Continuous Distribution: Random Numbers Range 1 to 100\")\n",
    "plt.xlabel('Values 1 to 100')\n",
    "plt.grid(True)\n",
    "plt.show()"
   ]
  },
  {
   "cell_type": "markdown",
   "metadata": {},
   "source": [
    "__Analysis:__ This graph is showing that there is a 100% probability that any number between 1 and 100 can be drawn, which would include all infinite possibilities; ie 2.5, 22.78, 99.99, or 100."
   ]
  },
  {
   "cell_type": "markdown",
   "metadata": {},
   "source": [
    "<span style=\"font-size:16px;\">__Random Seeds and Pseudo-random Numbers:__</span>\n",
    "\n",
    "It is impossible for humans and computers to generate truly random numbers.\n",
    "\n",
    "If a person was asked to choose a random number between 1 and 10, chances are they would choose a 7 or a 3 over other numbers within that range.\n",
    "\n",
    "Machines work similarly in that there would usually be some sort of sequence that would determine the random number produced. \n",
    "\n",
    "These types of \"random\" numbers are called pseudo-random numbers and can be generated using Numpy via the random generator functions.\n",
    "\n",
    "These pseudo-random numbers are generated in a sequence and are seeded with an initial number.\n",
    "\n",
    "This initial number is called the seed.\n",
    "\n",
    "Seeds themselves are not the initial random number but set the point from which the random numbers are generated.\n",
    "\n",
    "\n",
    "<span style=\"font-size:16px;\">__Mersenne Twister Random Generator:__</span>\n",
    "\n",
    "The legacy random number generator function in Numpy is the numpy.random.RandomState function, which uses the Mersenne Twister pseudorandom number generator.\n",
    "\n",
    "The Mersenne Twister pseudorandom number generator is so called because its period length is chosen from a Mersenne prime. \n",
    "\n",
    "A Mersenne prime is a prime number that is one less than a power of two. \n",
    "\n",
    "The most commonly used versions of the Mersenne twister are 2^{19937-1} using a 32 or 64 bit length.\n",
    "\n",
    "The seed used to generate the random number can be any number from 0 to 2^{32-1}, or generated by the PC clock.\n",
    "\n",
    "The numpy.random.seed function is called automatically to seed the generator for random.state and may be called again to re-seed the generator. ref:[33,34]\n",
    "\n",
    "\n",
    "<span style=\"font-size:16px;\">__PCG64 Random Generator (Permuted Congruential Generator 64-bit, PCG64):__</span>\n",
    "\n",
    "The most up to date random number generator in Numpy is the PCG64 (numpy.random.PCG64).\n",
    "\n",
    "PCG-64 is a 128-bit permutation congruential generator. \n",
    "\n",
    "The PCG-64 has a period length of 2^{128} and supports advancing an arbitrary number of steps as well as 2^{127} streams. \n",
    "\n",
    "PCG64 provides a capsule containing function pointers that produce doubles, and unsigned 32 and 64- bit integers. ref:[30,31] \n",
    "\n",
    "\n",
    "<span style=\"font-size:16px;\">__Comparison between MT Random Generator and PCG64:__</span>\n",
    "\n",
    "While both the MT RNG and PCG64 are good choices for generating pseudo-random numbers, there are some differences that I feel make the PCG64 a bit better.\n",
    "\n",
    "The PCG64 is much more secure. It's a lot harder to predict than the MT RNG due to the number of bits involved.\n",
    "\n",
    "The PCG64 is much faster and takes up less space than the MT RNG.\n",
    "\n",
    "The code size and complexity is much smaller, which makes the PCG64 easier to use.\n"
   ]
  },
  {
   "cell_type": "markdown",
   "metadata": {},
   "source": [
    "<span style=\"font-size:16px;\">__References for Programming for Data Analytics Practical Task:__</span>\n",
    "\n",
    "Simple Random Data and Permutations:\n",
    "\n",
    "1) \n",
    "https://www.practicaldatascience.org/html/exercises/Exercise_numpy.html\n",
    "\n",
    "2) \n",
    "https://numpy.org/doc/stable/user/absolute_beginners.html#basic-array-operations\n",
    "\n",
    "3) \n",
    "https://www.w3schools.com/python/numpy_random.asp\n",
    "\n",
    "4) https://numpy.org/doc/stable/reference/random/generated/numpy.random.Generator.integers.html#numpy.random.Generator.integers\n",
    "\n",
    "\n",
    "Distributions:\n",
    "\n",
    "5) \n",
    "https://en.wikipedia.org/wiki/Normal_distribution\n",
    "\n",
    "6) \n",
    "https://en.wikipedia.org/wiki/Exponential_distribution\n",
    "\n",
    "7) \n",
    "https://en.wikipedia.org/wiki/Uniform_distribution\n",
    "\n",
    "8) \n",
    "https://en.wikipedia.org/wiki/Poisson_distribution\n",
    "\n",
    "9) \n",
    "https://en.wikipedia.org/wiki/Binomial_distribution \n",
    "\n",
    "10) \n",
    "https://www.youtube.com/watch?v=kyjlxsLW1Is&ab_channel=zedstatistics\n",
    "\n",
    "11) \n",
    "https://www.w3schools.com/python/numpy_random_normal.asp\n",
    "\n",
    "12) \n",
    "https://www.w3schools.com/python/numpy_random_poisson.asp\n",
    "\n",
    "13) \n",
    "https://stattrek.com/probability-distributions/poisson.aspx\n",
    "\n",
    "14) \n",
    "https://numpy.org/doc/stable/reference/generated/numpy.busdaycalendar.html#numpy.busdaycalendar\n",
    "\n",
    "15) \n",
    "https://www.w3schools.com/python/numpy_random_exponential.asp\n",
    "\n",
    "16) \n",
    "https://courses.lumenlearning.com/odessa-introstats1-1/chapter/poisson-distribution/\n",
    "\n",
    "17) https://numpy.org/doc/stable/reference/random/generated/numpy.random.Generator.uniform.html#numpy.random.Generator.uniform\n",
    "\n",
    "18) https://numpy.org/doc/stable/reference/random/generated/numpy.random.Generator.binomial.html#numpy.random.Generator.binomial\n",
    "\n",
    "19) \n",
    "https://www.w3schools.com/python/numpy_random_binomial.asp\n",
    "\n",
    "20) \n",
    "https://www.w3schools.com/python/numpy_random_uniform.asp\n",
    "\n",
    "21) \n",
    "http://localhost:8890/notebooks/coin-flip.ipynb\n",
    "\n",
    "22) http://onlinestatbook.com/2/probability/binomial.html#:~:text=Binomial%20Distribution&text=When%20you%20flip%20a%20coin,same%20from%20trial%20to%20trial.&text=Hence%2C%20the%20probability%20of%20a,%2F2%20%3D%201%2F4.\n",
    "\n",
    "23) \n",
    "https://corporatefinanceinstitute.com/resources/knowledge/other/uniform-distribution/#:~:text=A%20deck%20of%20cards%20also,or%20head%20is%20the%20same.\n",
    "\n",
    "24) \n",
    "https://www.thoughtco.com/uniform-distribution-3126573\n",
    "\n",
    "25) \n",
    "https://www.geeksforgeeks.org/python-uniform-distribution-in-statistics/\n",
    "\n",
    "\n",
    "Seeds and RNGs:\n",
    "\n",
    "26) \n",
    "https://www.pcg-random.org/index.html\n",
    "\n",
    "27) \n",
    "https://towardsdatascience.com/how-to-generate-pseudo-random-datasets-in-python-start-from-scratch-with-numpy-faker-c5661e3bc58b\n",
    "\n",
    "28) \n",
    "https://numpy.org/doc/stable/reference/random/generator.html\n",
    "\n",
    "29) https://numpy.org/doc/stable/reference/random/generated/numpy.random.Generator.random.html#numpy.random.Generator.random\n",
    "\n",
    "30) \n",
    "https://numpy.org/doc/stable/reference/random/bit_generators/pcg64.html#numpy.random.PCG64\n",
    "\n",
    "31) \n",
    "https://www.pcg-random.org/\n",
    "\n",
    "32) \n",
    "https://numpy.org/doc/stable/reference/random/performance.html\n",
    "\n",
    "33)\n",
    "https://en.wikipedia.org/wiki/Mersenne_prime#:~:text=In%20mathematics%2C%20a%20Mersenne%20prime,in%20the%20early%2017th%20century.\n",
    "\n",
    "34)\n",
    "https://en.wikipedia.org/wiki/Mersenne_Twister\n",
    "\n",
    "Other:\n",
    "\n",
    "35) \n",
    "https://github.com/oreillyh/Programming-for-DA---Assignments/blob/master/Programming%20for%20Data%20Analytics%20Assignment%201.ipynb\n",
    "\n",
    "36) \n",
    "https://jupyter-notebook.readthedocs.io/en/stable/examples/Notebook/Working%20With%20Markdown%20Cells.html\n",
    "\n",
    "37)\n",
    "https://jupyter-notebook.readthedocs.io/en/stable/examples/Notebook/Working%20With%20Markdown%20Cells.html\n",
    "\n",
    "38)\n",
    "https://daringfireball.net/projects/markdown/syntax\n",
    "\n",
    "39)\n",
    "https://support.squarespace.com/hc/en-us/articles/206543587-Markdown-cheat-sheet"
   ]
  },
  {
   "cell_type": "code",
   "execution_count": null,
   "metadata": {},
   "outputs": [],
   "source": []
  }
 ],
 "metadata": {
  "kernelspec": {
   "display_name": "Python 3",
   "language": "python",
   "name": "python3"
  },
  "language_info": {
   "codemirror_mode": {
    "name": "ipython",
    "version": 3
   },
   "file_extension": ".py",
   "mimetype": "text/x-python",
   "name": "python",
   "nbconvert_exporter": "python",
   "pygments_lexer": "ipython3",
   "version": "3.8.3"
  }
 },
 "nbformat": 4,
 "nbformat_minor": 4
}
