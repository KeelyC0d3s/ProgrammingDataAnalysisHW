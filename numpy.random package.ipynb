{
 "cells": [
  {
   "cell_type": "markdown",
   "metadata": {},
   "source": [
    "Overall purpose of the numpy.random package:\n",
    "\n",
    "The overall purpose of the numpy.random package is to generate random numbers.\n",
    "Possible reasons for generating random numbers are to simulate data that is inaccessible, or to create data in order to practice data representation.\n",
    "\n",
    "Below I will explore several functions of the numpy.random package to demonstrate what they do and how they work."
   ]
  },
  {
   "cell_type": "markdown",
   "metadata": {},
   "source": [
    "The first sampling of numpy functions to demonstrate is a set of functions called simple random data.\n",
    "These are integers, random, choice, and bytes."
   ]
  },
  {
   "cell_type": "markdown",
   "metadata": {},
   "source": [
    "Integers:"
   ]
  },
  {
   "cell_type": "code",
   "execution_count": 1,
   "metadata": {},
   "outputs": [
    {
     "data": {
      "text/plain": [
       "array([2, 2, 0, 3, 0, 3, 3, 0, 2, 2])"
      ]
     },
     "execution_count": 1,
     "metadata": {},
     "output_type": "execute_result"
    }
   ],
   "source": [
    "import numpy as np\n",
    "rng = np.random.default_rng()\n",
    "rng.integers(4, size=10)\n",
    "\n",
    "#A random array of 10 integers up to, but not including, 4 was generated in the output.\n"
   ]
  },
  {
   "cell_type": "code",
   "execution_count": null,
   "metadata": {},
   "outputs": [],
   "source": [
    "Random:"
   ]
  },
  {
   "cell_type": "code",
   "execution_count": 1,
   "metadata": {},
   "outputs": [
    {
     "data": {
      "text/plain": [
       "0.6564531657861813"
      ]
     },
     "execution_count": 1,
     "metadata": {},
     "output_type": "execute_result"
    }
   ],
   "source": [
    "import numpy as np\n",
    "rng = np.random.default_rng()\n",
    "rng.random()\n",
    "\n",
    "#Generates a random number as a float."
   ]
  },
  {
   "cell_type": "code",
   "execution_count": 3,
   "metadata": {},
   "outputs": [
    {
     "data": {
      "text/plain": [
       "array([0.49980091, 0.93818459, 0.62088411, 0.04061112, 0.53066427])"
      ]
     },
     "execution_count": 3,
     "metadata": {},
     "output_type": "execute_result"
    }
   ],
   "source": [
    "type(rng.random())\n",
    "rng.random((5,))\n",
    "\n",
    "#Generates an array of 5 floats. \n",
    "#If you choose a different number, like 3 for example, you would get an array of three floats."
   ]
  },
  {
   "cell_type": "code",
   "execution_count": 5,
   "metadata": {},
   "outputs": [
    {
     "data": {
      "text/plain": [
       "array([[-3.90487368, -2.57438514],\n",
       "       [-1.61396644, -1.09116634],\n",
       "       [-2.36571758, -0.27617533]])"
      ]
     },
     "execution_count": 5,
     "metadata": {},
     "output_type": "execute_result"
    }
   ],
   "source": [
    "#You can also create a three by two array with the following:\n",
    "#This method gives you an array of two columns of random floats up to, but not including, 4.\n",
    "\n",
    "4 * rng.random((3, 2)) - 4"
   ]
  },
  {
   "cell_type": "markdown",
   "metadata": {},
   "source": [
    "Choice:"
   ]
  },
  {
   "cell_type": "code",
   "execution_count": 2,
   "metadata": {},
   "outputs": [
    {
     "data": {
      "text/plain": [
       "array([4, 2, 4, 1])"
      ]
     },
     "execution_count": 2,
     "metadata": {},
     "output_type": "execute_result"
    }
   ],
   "source": [
    "#This function allows us to specify probability for each value.\n",
    "\n",
    "import numpy as np\n",
    "rng = np.random.default_rng()\n",
    "rng.choice(7, 4)\n",
    "\n",
    "#Outputs an array of 4 integers up to but never including 7"
   ]
  },
  {
   "cell_type": "code",
   "execution_count": 31,
   "metadata": {},
   "outputs": [
    {
     "data": {
      "text/plain": [
       "array([4, 4, 4, 4, 2, 4, 4, 4, 2, 2, 2, 4, 4, 2, 2, 4, 4, 4, 4, 2, 2, 4,\n",
       "       2, 2, 2, 4, 2, 2, 4, 2, 4, 4, 4, 4, 4, 4, 4, 4, 4, 4, 4, 4, 4, 2,\n",
       "       4, 4, 4, 4, 4, 2, 4, 4, 2, 2, 4, 2, 4, 2, 4, 4, 4, 4, 2, 4, 4, 2,\n",
       "       4, 4, 4, 4, 2, 4, 4, 4, 2, 4, 4, 4, 4, 4, 4, 4, 4, 2, 4, 2, 4, 4,\n",
       "       4, 4, 4, 2, 2, 4, 4, 4, 4, 2, 4, 2])"
      ]
     },
     "execution_count": 31,
     "metadata": {},
     "output_type": "execute_result"
    }
   ],
   "source": [
    "import numpy as np\n",
    "rng = np.random.default_rng()\n",
    "rng.choice(7, 4)\n",
    "rng.choice(([4, 2, 4, 1]), p=([0.1, 0.3, 0.6, 0.0]), size=(100))\n",
    "\n",
    "#Output is a 1-D Array containing 100 values where each value has to be 4,2, or 1.\n",
    "#4 is assigned to 0.1, 2 to 0.3, 4 again to 0.6, and 1 to 0.0\n",
    "#p always needs to be equal to 1\n"
   ]
  },
  {
   "cell_type": "code",
   "execution_count": 38,
   "metadata": {},
   "outputs": [
    {
     "data": {
      "text/plain": [
       "array(['Beethoven', 'Handel', 'Bach', 'Bach', 'Mozart'], dtype='<U9')"
      ]
     },
     "execution_count": 38,
     "metadata": {},
     "output_type": "execute_result"
    }
   ],
   "source": [
    "#You don't have to use only numbers for the arrays, but can also use lists.\n",
    "\n",
    "import numpy as np\n",
    "composers_arr = ['Mozart' , 'Bach' , 'Handel' , 'Beethoven' , 'Haydn' , 'Vivaldi']\n",
    "rng.choice(composers_arr, 5 , p=([0.2, 0.1, 0.1, 0.1, 0.2, 0.3]))\n"
   ]
  },
  {
   "cell_type": "markdown",
   "metadata": {},
   "source": [
    "Bytes:"
   ]
  },
  {
   "cell_type": "code",
   "execution_count": 1,
   "metadata": {},
   "outputs": [
    {
     "data": {
      "text/plain": [
       "b'\\xe6\\x97\\xe2\\xb0h\\xc5\\xe4a\\xf80\\xa1\\x1b!M\\xed\\x8e\\x85\\x0e%\\xa3'"
      ]
     },
     "execution_count": 1,
     "metadata": {},
     "output_type": "execute_result"
    }
   ],
   "source": [
    "#This function returns random bytes\n",
    "\n",
    "import numpy as np\n",
    "np.random.default_rng().bytes(20)"
   ]
  },
  {
   "cell_type": "markdown",
   "metadata": {},
   "source": [
    "The second sampling of Numpy functions to demonstrate are the two permutations functions: shuffle and permutation."
   ]
  },
  {
   "cell_type": "markdown",
   "metadata": {},
   "source": [
    "Shuffle:"
   ]
  },
  {
   "cell_type": "code",
   "execution_count": 3,
   "metadata": {},
   "outputs": [
    {
     "data": {
      "text/plain": [
       "array([ 0,  1,  2,  3,  4,  5,  6,  7,  8,  9, 10, 11])"
      ]
     },
     "execution_count": 3,
     "metadata": {},
     "output_type": "execute_result"
    }
   ],
   "source": [
    "#The shuffle method allows us to change or shuffle the elements in an array, but the contents stay the same.\n",
    "\n",
    "import numpy as np\n",
    "rng = np.random.default_rng()\n",
    "arr = np.arange(12)\n",
    "#rng.shuffle(arr)\n",
    "arr\n",
    "\n",
    "#Here, there is a random array of integers up to but not including 12"
   ]
  },
  {
   "cell_type": "code",
   "execution_count": 4,
   "metadata": {},
   "outputs": [
    {
     "data": {
      "text/plain": [
       "array([ 6,  0,  8,  2,  7,  1,  3, 10,  9, 11,  4,  5])"
      ]
     },
     "execution_count": 4,
     "metadata": {},
     "output_type": "execute_result"
    }
   ],
   "source": [
    "import numpy as np\n",
    "rng = np.random.default_rng()\n",
    "arr = np.arange(12)\n",
    "rng.shuffle(arr) #By adding the Shuffle method, we've changed the order of the integers in the array.\n",
    "arr"
   ]
  },
  {
   "cell_type": "markdown",
   "metadata": {},
   "source": [
    "A practical/real world usage for the shuffle method would be for the lottery.\n",
    "You draw a set number of lotto balls with numbers on them, 6 numbers for example, out of 100.\n",
    "You could use the shuffle method to choose the 6 random numbers:"
   ]
  },
  {
   "cell_type": "code",
   "execution_count": 2,
   "metadata": {},
   "outputs": [
    {
     "data": {
      "text/plain": [
       "('The lotto numbers are', array([35, 87, 68, 48, 50, 99]))"
      ]
     },
     "execution_count": 2,
     "metadata": {},
     "output_type": "execute_result"
    }
   ],
   "source": [
    "import numpy as np\n",
    "lotto = list(range(1, 100)) #create a list of 100 numbers\n",
    "x = np.array(lotto) #convert to a numpy array\n",
    "np.random.shuffle(x) #shuffle the numbers\n",
    "x\n",
    "draw = x[0:6] #output first 6 random numbers\n",
    "'The lotto numbers are', draw # dispay the lotto numbers"
   ]
  },
  {
   "cell_type": "markdown",
   "metadata": {},
   "source": [
    "Permutations:"
   ]
  },
  {
   "cell_type": "code",
   "execution_count": 2,
   "metadata": {},
   "outputs": [
    {
     "data": {
      "text/plain": [
       "array([ 0,  1,  2,  3,  4,  5,  6,  7,  8,  9, 10, 11, 12, 13, 14])"
      ]
     },
     "execution_count": 2,
     "metadata": {},
     "output_type": "execute_result"
    }
   ],
   "source": [
    "#The permutations method makes a copy of the original array and then returns a rearrangement of it.\n",
    "\n",
    "import numpy as np\n",
    "rng = np.random.default_rng()\n",
    "arr = np.arange(15)\n",
    "arr #random array"
   ]
  },
  {
   "cell_type": "code",
   "execution_count": 4,
   "metadata": {},
   "outputs": [
    {
     "data": {
      "text/plain": [
       "array([ 0, 11, 13,  9,  1,  5,  7,  3,  4,  2,  8, 14, 12,  6, 10])"
      ]
     },
     "execution_count": 4,
     "metadata": {},
     "output_type": "execute_result"
    }
   ],
   "source": [
    "import numpy as np\n",
    "rng = np.random.default_rng()\n",
    "arr = np.arange(15)\n",
    "rng.permutation(15) #rerranged array"
   ]
  },
  {
   "cell_type": "markdown",
   "metadata": {},
   "source": [
    "A practical usage for the permutations method would be when generating a good password for a computer or website."
   ]
  },
  {
   "cell_type": "code",
   "execution_count": 7,
   "metadata": {},
   "outputs": [
    {
     "name": "stdout",
     "output_type": "stream",
     "text": [
      "Password is= ['t' 'G' '8' '1' 'z' 'J' '4' '6']\n"
     ]
    }
   ],
   "source": [
    "import numpy as np\n",
    "letnumb = np.array(['1', 'n', 'z', 'h', 't', '8', 'J', 'K', '6', '4', '9', 'G'])\n",
    "password = np.random.permutation(letnumb)\n",
    "print('Password is=', password[1:9])"
   ]
  },
  {
   "cell_type": "markdown",
   "metadata": {},
   "source": [
    "The final set of functions in the numpy.random package that will be explored in this task is the Distributions set of functions.\n",
    "\n",
    "There are several Distributions functions, on each of which a person could complete a PhD, in the numpy.random package.\n",
    "\n",
    "For the purpose of this project, I will explore 5: Normal Distribution, Poisson Distribution, Exponential Distribution, Binomial Distribution, and Logistic Distribution"
   ]
  },
  {
   "cell_type": "markdown",
   "metadata": {},
   "source": [
    "Normal Distribution:\n",
    "\n",
    "Also known as the Gaussian Distribution, named after German mathematician Carl Friedrich Gauss, the Normal Distribution is probably the most important distribution function, as it can be used in a myriad situations ranging from test scores, heartbeats, sports teams scores etc.\n",
    "\n",
    "This function has three parameters: \n",
    "\n",
    "loc - or the mean\n",
    "scale - or standard deviation\n",
    "size - or shape of the array\n",
    "\n",
    "The Normal Distribution function is also called 'The Bell Curve\" due to the shape it creates on a graph.\n",
    "\n",
    "A practical example where one could use this function is when a teacher is trying to decipher the probabilities of  test scores of her students.\n"
   ]
  },
  {
   "cell_type": "code",
   "execution_count": 15,
   "metadata": {},
   "outputs": [
    {
     "data": {
      "image/png": "[encoded data removed]",
      "text/plain": [
       "<Figure size 432x288 with 1 Axes>"
      ]
     },
     "metadata": {
      "needs_background": "light"
     },
     "output_type": "display_data"
    }
   ],
   "source": [
    "#Code showing practical example mentioned above\n",
    "from numpy import random\n",
    "import matplotlib.pyplot as plt\n",
    "import seaborn as sns\n",
    "\n",
    "x = random.normal(loc=70, scale=3, size=(1, 30))#70 is average test score, 3 is std deviation,30 is num of students\n",
    "sns.distplot(x, hist=False)\n",
    "\n",
    "plt.title('Normal Distribution')\n",
    "plt.xlabel('Test Scores')\n",
    "plt.ylabel('p(x)')\n",
    "\n",
    "plt.show()\n"
   ]
  },
  {
   "cell_type": "markdown",
   "metadata": {},
   "source": [
    "Analysis: What we can see in this graph is that about 10% of students had a probability of scoring between 66% and 75% on their test."
   ]
  },
  {
   "cell_type": "markdown",
   "metadata": {},
   "source": [
    "Poisson Distribution:\n",
    "\n",
    "The Poisson Distribution function is a probability distribution which shows the probability of events occuring at regular intervals when the events are independent of eachother.\n",
    "\n",
    "It is named after French mathematician Siméon Denis Poisson. #insert link\n",
    "\n",
    "There are two parameters for the Poisson Distribution function:\n",
    "\n",
    "lam - the rate of known occurences of an event\n",
    "\n",
    "size - shape of the returned array (optional parameter)\n",
    "\n",
    "Just for fun, the Poisson formula is:\n",
    "\n",
    "P(x; μ) = (e-μ) (μx) / x!\n",
    "\n",
    "The average number of successes within a given region is μ.\n",
    "\n",
    "x is the actual number of successes that result from the experiment, and e is approximately equal to 2.71828.\n",
    "\n",
    "e is Euler's number, a mathematical constant.\n",
    "\n",
    "Below I have created a Poisson experiment using Numpy.\n"
   ]
  },
  {
   "cell_type": "code",
   "execution_count": 16,
   "metadata": {},
   "outputs": [
    {
     "name": "stdout",
     "output_type": "stream",
     "text": [
      "[ 3  3  5  3  5  6  6  2  6  6  4  6  4  3  4  2  2  2  3  2  2  5  5  3\n",
      "  3  9  5  5  8  4  7  9  5  5  4  3  1  3  5  6  7  1  4  3  9  4  2  4\n",
      "  2  1  4  8  2  6  3  6  1  5  3  5  5  8  5  3  7  5  3  4  2  4  5  2\n",
      "  2  9  2  1  0  4  3  4  2  5  4  3  5  3  2  6  1  7  3  5  3  8  5  5\n",
      "  7  2  1  3  1  5  3  2  6  4  3  7  1  5  3  2  5  2  5  2  5  3  2  2\n",
      "  6  9  5  5  4  2  3  5  2  5  3  4  8  5  1  4  6  6  5  3  4  4  3  5\n",
      "  6  3  5  4  1  3  2  3  6  1  8  8  5  1  6  3  0  2  1  1  0  5  3  3\n",
      "  1  5  3  4  5  4  4  4  7  8  2 10  4  5  3  4  5  3  3  2  2  7  3  1\n",
      "  3 10  4  3  6  5  2  2  6  2  5  2  6  6  6  5  2  2  4  1  4  3  4  3\n",
      "  7  5  4  6  2  3  5  5  1  5  4  4  3  7  3  6  4  4  3  7  0  4  0  7\n",
      "  2  5  8  3  4  4  8  9  6  3  3  7  6  5  4  1  3  3  4  4  2  5  3  4\n",
      "  4  5  2  6 10  4 10  2  3  5  5  3  6  4  8  2  4  5  5  9  5  9  4  2\n",
      "  6  4  4  2  7  7  4  4  6  3  6  7  5  4  6  5  4  3  2  5  8  4  0  3\n",
      "  2  4  3  5  6  3  4  1  5  3  4  7  6  5  2  5  4 10  3  3  5  9  2  4\n",
      "  5  3  6  7  6  4  1  5  6  6  5  4  3  8  6  2  2  6  4  1 10  4  5  0\n",
      "  2  8  4  1  4  4  3  3  6  8  3  5  5  6  5  3  4  5  3  5  6  3  2  3\n",
      "  5  4  3  3  7  3  5  1  7  8  7  3  3  4  8  4  4  4  4  7  6  7  7  5\n",
      "  2  5  4  7  3  7  8  1  0  6  3  1  3  3  1  6  4  5  4  5  3  8  2  7\n",
      "  2  2  6  5  8  1  3  4  5  4  3 11  3  5  2  1  2  4  6  5  4  4  7  4\n",
      "  5  6  8  2  4  8  5  6  6  6  5  3  2  3  4  1  7  8  5  1  4  4  3  6\n",
      "  1  7  1  3  2  5  5  6  5  2  2  8  3  4  7  4  2  2  2  5  5  4  3  8\n",
      "  4  4  4  3  5  4  3  5  1  2  2  1  4  2  3  3  8  6  2  3  3  5  4  1\n",
      "  3  2  1  6  7  5  5  3  0  6  4  5  3  1  4  6  2  2  3  9  0  5  6  4\n",
      "  2  3  2  4  4  3  3  3  3  5  6  4  7  3  4  8  2  4  1  3  3  2  5  6\n",
      "  5  2  1  5  2  5  6  2  7  8  1  7  4  4  2  2  4  3  4  7  6  3  4  4\n",
      "  2  3  9  4  6  6  4  3  5  0  7  2  7  8  1  1  5  2  2  6  3  8  3  2\n",
      "  5  5  1  3 10  8  6  2  6  7  4  5  4  5  4  4  1  6  1  2  4  5  3  5\n",
      "  4  9  5  4  4  5  0  6  6  1  5  7  2  1  4  5  2  4  2  3  4  2  4  1\n",
      "  3  7  2  5  4  4  4  7  6  2  4  4  2  4  3  3  2  3  4  6  5  3  6  0\n",
      "  7  6  2  2  2  3  4  5  3  3  6  1  4  3  1  4  4  5  6  4  8  2  5  2\n",
      "  3  2  3  6  1  3  2  2  5  6  8  4  5  4  4  1  2  1  0  3  4  4  9  5\n",
      "  2  1  5  5  4  5  2  4  1  4  2  3  8  8  5  6  2  5  7  3  3  5  8  5\n",
      "  0  5  3  2  2  4  3  4  4  1  1  4  1  0  3  8  5  5  6  2  4  5  2  9\n",
      "  5  6  4  4  7  4  5  5  8  4  2  6  6  4  5  2  2  3  2  4  5  2  4  4\n",
      "  2  9  1  5  3  8  4  2  7  3  4  5  6  8  7  4  3  2  0  4  6  7  6  0\n",
      "  0  5  6  3  7  2  4  3  4  3  3  7  6  2  4  2  4  4  1  3  5  2  4  1\n",
      "  2  4  6  0  7  7  2  3  2  2  4  5  4  6  6  1  1  5  4  0  4  6  1  2\n",
      "  4  5  4  4  1  0  2  3  2  1  6  6  4  3  3  5  6  1  6  3  5  5  8  2\n",
      "  4  3  5  5  4  5  4  2  5  4  6  3  5  7  2  3  6  0  4  6  3  0  4  4\n",
      "  5  4  4  2  7  2  5  5  2  4  3  3  4  4  3  2  4  5  1  4  8  0  1  5\n",
      "  2  2  2  5  6  6  2  6  4  3  1  2  2  4  5  6  3  1  2  6  5  2  5  0\n",
      "  5  3  3  1  2  2  5  2  2  1  3  7  5  4  4  0]\n"
     ]
    }
   ],
   "source": [
    "#Experiment: on an average sea safari in Ireland, you will see 4 dolphins per day.\n",
    "#What are the chances of seeing 7 dolphins?\n",
    "\n",
    "from numpy import random\n",
    "\n",
    "x = random.poisson(lam=4, size=1000)\n",
    "\n",
    "print(x)\n"
   ]
  },
  {
   "cell_type": "code",
   "execution_count": 17,
   "metadata": {},
   "outputs": [
    {
     "data": {
      "image/png": "[encoded data removed]",
      "text/plain": [
       "<Figure size 432x288 with 1 Axes>"
      ]
     },
     "metadata": {
      "needs_background": "light"
     },
     "output_type": "display_data"
    }
   ],
   "source": [
    "from numpy import random\n",
    "import matplotlib.pyplot as plt\n",
    "import seaborn as sns\n",
    "\n",
    "sns.distplot(random.poisson(lam=50, size=1000), hist=False, label='poisson')\n",
    "\n",
    "plt.show()"
   ]
  },
  {
   "cell_type": "markdown",
   "metadata": {},
   "source": [
    "References for Programming for Data Analytics Practical Task:\n",
    "\n",
    "https://www.pcg-random.org/index.html\n",
    "\n",
    "https://towardsdatascience.com/how-to-generate-pseudo-random-datasets-in-python-start-from-scratch-with-numpy-faker-c5661e3bc58b\n",
    "\n",
    "https://jupyter-notebook.readthedocs.io/en/stable/examples/Notebook/Working%20With%20Markdown%20Cells.html\n",
    "\n",
    "https://www.practicaldatascience.org/html/exercises/Exercise_numpy.html\n",
    "\n",
    "https://numpy.org/doc/stable/user/absolute_beginners.html#basic-array-operations\n",
    "\n",
    "https://numpy.org/doc/stable/reference/random/generator.html\n",
    "\n",
    "https://www.w3schools.com/python/numpy_random.asp\n",
    "\n",
    "https://numpy.org/doc/stable/reference/random/generated/numpy.random.Generator.integers.html#numpy.random.Generator.integers\n",
    "\n",
    "https://numpy.org/doc/stable/reference/random/generated/numpy.random.Generator.logistic.html#numpy.random.Generator.logistic\n",
    "\n",
    "https://github.com/oreillyh/Programming-for-DA---Assignments/blob/master/Programming%20for%20Data%20Analytics%20Assignment%201.ipynb\n",
    "\n",
    "https://en.wikipedia.org/wiki/Normal_distribution\n",
    "\n",
    "https://en.wikipedia.org/wiki/Exponential_distribution\n",
    "\n",
    "https://en.wikipedia.org/wiki/Logistic_distribution\n",
    "\n",
    "https://en.wikipedia.org/wiki/Poisson_distribution\n",
    "\n",
    "https://en.wikipedia.org/wiki/Binomial_distribution \n",
    "\n",
    "https://www.youtube.com/watch?v=kyjlxsLW1Is&ab_channel=zedstatistics\n",
    "\n",
    "https://www.w3schools.com/python/numpy_random_normal.asp\n",
    "\n",
    "https://www.w3schools.com/python/numpy_random_poisson.asp\n",
    "\n",
    "https://stattrek.com/probability-distributions/poisson.aspx\n",
    "\n"
   ]
  }
 ],
 "metadata": {
  "kernelspec": {
   "display_name": "Python 3",
   "language": "python",
   "name": "python3"
  },
  "language_info": {
   "codemirror_mode": {
    "name": "ipython",
    "version": 3
   },
   "file_extension": ".py",
   "mimetype": "text/x-python",
   "name": "python",
   "nbconvert_exporter": "python",
   "pygments_lexer": "ipython3",
   "version": "3.8.3"
  }
 },
 "nbformat": 4,
 "nbformat_minor": 4
}
