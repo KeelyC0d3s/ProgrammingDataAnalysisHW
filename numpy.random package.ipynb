{
 "cells": [
  {
   "cell_type": "markdown",
   "metadata": {},
   "source": [
    "Overall purpose of the numpy.random package:\n",
    "\n",
    "The overall purpose of the numpy.random package is to generate random numbers.\n",
    "Possible reasons for generating random numbers are to simulate data that is inaccessible, or to create data in order to practice data representation.\n",
    "\n",
    "Below I will explore several functions of the numpy.random package to demonstrate what they do and how they work."
   ]
  },
  {
   "cell_type": "markdown",
   "metadata": {},
   "source": [
    "The first sampling of numpy functions to demonstrate is a set of functions called simple random data.\n",
    "These are integers, random, choice, and bytes."
   ]
  },
  {
   "cell_type": "markdown",
   "metadata": {},
   "source": [
    "Integers:"
   ]
  },
  {
   "cell_type": "code",
   "execution_count": 1,
   "metadata": {},
   "outputs": [
    {
     "data": {
      "text/plain": [
       "array([2, 2, 0, 3, 0, 3, 3, 0, 2, 2])"
      ]
     },
     "execution_count": 1,
     "metadata": {},
     "output_type": "execute_result"
    }
   ],
   "source": [
    "import numpy as np\n",
    "rng = np.random.default_rng()\n",
    "rng.integers(4, size=10)\n",
    "\n",
    "#A random array of 10 integers up to, but not including, 4 was generated in the output.\n"
   ]
  },
  {
   "cell_type": "code",
   "execution_count": null,
   "metadata": {},
   "outputs": [],
   "source": [
    "Random:"
   ]
  },
  {
   "cell_type": "code",
   "execution_count": 1,
   "metadata": {},
   "outputs": [
    {
     "data": {
      "text/plain": [
       "0.6564531657861813"
      ]
     },
     "execution_count": 1,
     "metadata": {},
     "output_type": "execute_result"
    }
   ],
   "source": [
    "import numpy as np\n",
    "rng = np.random.default_rng()\n",
    "rng.random()\n",
    "\n",
    "#Generates a random number as a float."
   ]
  },
  {
   "cell_type": "code",
   "execution_count": 3,
   "metadata": {},
   "outputs": [
    {
     "data": {
      "text/plain": [
       "array([0.49980091, 0.93818459, 0.62088411, 0.04061112, 0.53066427])"
      ]
     },
     "execution_count": 3,
     "metadata": {},
     "output_type": "execute_result"
    }
   ],
   "source": [
    "type(rng.random())\n",
    "rng.random((5,))\n",
    "\n",
    "#Generates an array of 5 floats. \n",
    "#If you choose a different number, like 3 for example, you would get an array of three floats."
   ]
  },
  {
   "cell_type": "code",
   "execution_count": 5,
   "metadata": {},
   "outputs": [
    {
     "data": {
      "text/plain": [
       "array([[-3.90487368, -2.57438514],\n",
       "       [-1.61396644, -1.09116634],\n",
       "       [-2.36571758, -0.27617533]])"
      ]
     },
     "execution_count": 5,
     "metadata": {},
     "output_type": "execute_result"
    }
   ],
   "source": [
    "#You can also create a three by two array with the following:\n",
    "#This method gives you an array of two columns of random floats up to, but not including, 4.\n",
    "\n",
    "4 * rng.random((3, 2)) - 4"
   ]
  },
  {
   "cell_type": "markdown",
   "metadata": {},
   "source": [
    "Choice:"
   ]
  },
  {
   "cell_type": "code",
   "execution_count": 2,
   "metadata": {},
   "outputs": [
    {
     "data": {
      "text/plain": [
       "array([4, 2, 4, 1])"
      ]
     },
     "execution_count": 2,
     "metadata": {},
     "output_type": "execute_result"
    }
   ],
   "source": [
    "#This function allows us to specify probability for each value.\n",
    "\n",
    "import numpy as np\n",
    "rng = np.random.default_rng()\n",
    "rng.choice(7, 4)\n",
    "\n",
    "#Outputs an array of 4 integers up to but never including 7"
   ]
  },
  {
   "cell_type": "code",
   "execution_count": 31,
   "metadata": {},
   "outputs": [
    {
     "data": {
      "text/plain": [
       "array([4, 4, 4, 4, 2, 4, 4, 4, 2, 2, 2, 4, 4, 2, 2, 4, 4, 4, 4, 2, 2, 4,\n",
       "       2, 2, 2, 4, 2, 2, 4, 2, 4, 4, 4, 4, 4, 4, 4, 4, 4, 4, 4, 4, 4, 2,\n",
       "       4, 4, 4, 4, 4, 2, 4, 4, 2, 2, 4, 2, 4, 2, 4, 4, 4, 4, 2, 4, 4, 2,\n",
       "       4, 4, 4, 4, 2, 4, 4, 4, 2, 4, 4, 4, 4, 4, 4, 4, 4, 2, 4, 2, 4, 4,\n",
       "       4, 4, 4, 2, 2, 4, 4, 4, 4, 2, 4, 2])"
      ]
     },
     "execution_count": 31,
     "metadata": {},
     "output_type": "execute_result"
    }
   ],
   "source": [
    "import numpy as np\n",
    "rng = np.random.default_rng()\n",
    "rng.choice(7, 4)\n",
    "rng.choice(([4, 2, 4, 1]), p=([0.1, 0.3, 0.6, 0.0]), size=(100))\n",
    "\n",
    "#Output is a 1-D Array containing 100 values where each value has to be 4,2, or 1.\n",
    "#4 is assigned to 0.1, 2 to 0.3, 4 again to 0.6, and 1 to 0.0\n",
    "#p always needs to be equal to 1\n"
   ]
  },
  {
   "cell_type": "code",
   "execution_count": 38,
   "metadata": {},
   "outputs": [
    {
     "data": {
      "text/plain": [
       "array(['Beethoven', 'Handel', 'Bach', 'Bach', 'Mozart'], dtype='<U9')"
      ]
     },
     "execution_count": 38,
     "metadata": {},
     "output_type": "execute_result"
    }
   ],
   "source": [
    "#You don't have to use only numbers for the arrays, but can also use lists.\n",
    "\n",
    "import numpy as np\n",
    "composers_arr = ['Mozart' , 'Bach' , 'Handel' , 'Beethoven' , 'Haydn' , 'Vivaldi']\n",
    "rng.choice(composers_arr, 5 , p=([0.2, 0.1, 0.1, 0.1, 0.2, 0.3]))\n"
   ]
  },
  {
   "cell_type": "markdown",
   "metadata": {},
   "source": [
    "Bytes:"
   ]
  },
  {
   "cell_type": "code",
   "execution_count": 1,
   "metadata": {},
   "outputs": [
    {
     "data": {
      "text/plain": [
       "b'\\xe6\\x97\\xe2\\xb0h\\xc5\\xe4a\\xf80\\xa1\\x1b!M\\xed\\x8e\\x85\\x0e%\\xa3'"
      ]
     },
     "execution_count": 1,
     "metadata": {},
     "output_type": "execute_result"
    }
   ],
   "source": [
    "#This function returns random bytes\n",
    "\n",
    "import numpy as np\n",
    "np.random.default_rng().bytes(20)"
   ]
  },
  {
   "cell_type": "markdown",
   "metadata": {},
   "source": [
    "The second sampling of Numpy functions to demonstrate are the two permutations functions: shuffle and permutation."
   ]
  },
  {
   "cell_type": "markdown",
   "metadata": {},
   "source": [
    "Shuffle:"
   ]
  },
  {
   "cell_type": "code",
   "execution_count": 3,
   "metadata": {},
   "outputs": [
    {
     "data": {
      "text/plain": [
       "array([ 0,  1,  2,  3,  4,  5,  6,  7,  8,  9, 10, 11])"
      ]
     },
     "execution_count": 3,
     "metadata": {},
     "output_type": "execute_result"
    }
   ],
   "source": [
    "#The shuffle method allows us to change or shuffle the elements in an array, but the contents stay the same.\n",
    "\n",
    "import numpy as np\n",
    "rng = np.random.default_rng()\n",
    "arr = np.arange(12)\n",
    "#rng.shuffle(arr)\n",
    "arr\n",
    "\n",
    "#Here, there is a random array of integers up to but not including 12"
   ]
  },
  {
   "cell_type": "code",
   "execution_count": 4,
   "metadata": {},
   "outputs": [
    {
     "data": {
      "text/plain": [
       "array([ 6,  0,  8,  2,  7,  1,  3, 10,  9, 11,  4,  5])"
      ]
     },
     "execution_count": 4,
     "metadata": {},
     "output_type": "execute_result"
    }
   ],
   "source": [
    "import numpy as np\n",
    "rng = np.random.default_rng()\n",
    "arr = np.arange(12)\n",
    "rng.shuffle(arr) #By adding the Shuffle method, we've changed the order of the integers in the array.\n",
    "arr"
   ]
  },
  {
   "cell_type": "markdown",
   "metadata": {},
   "source": [
    "A practical/real world usage for the shuffle method would be for the lottery.\n",
    "You draw a set number of lotto balls with numbers on them, 6 numbers for example, out of 100.\n",
    "You could use the shuffle method to choose the 6 random numbers:"
   ]
  },
  {
   "cell_type": "code",
   "execution_count": 2,
   "metadata": {},
   "outputs": [
    {
     "data": {
      "text/plain": [
       "('The lotto numbers are', array([35, 87, 68, 48, 50, 99]))"
      ]
     },
     "execution_count": 2,
     "metadata": {},
     "output_type": "execute_result"
    }
   ],
   "source": [
    "import numpy as np\n",
    "lotto = list(range(1, 100)) #create a list of 100 numbers\n",
    "x = np.array(lotto) #convert to a numpy array\n",
    "np.random.shuffle(x) #shuffle the numbers\n",
    "x\n",
    "draw = x[0:6] #output first 6 random numbers\n",
    "'The lotto numbers are', draw # dispay the lotto numbers"
   ]
  },
  {
   "cell_type": "markdown",
   "metadata": {},
   "source": [
    "Permutations:"
   ]
  },
  {
   "cell_type": "code",
   "execution_count": 2,
   "metadata": {},
   "outputs": [
    {
     "data": {
      "text/plain": [
       "array([ 0,  1,  2,  3,  4,  5,  6,  7,  8,  9, 10, 11, 12, 13, 14])"
      ]
     },
     "execution_count": 2,
     "metadata": {},
     "output_type": "execute_result"
    }
   ],
   "source": [
    "#The permutations method makes a copy of the original array and then returns a rearrangement of it.\n",
    "\n",
    "import numpy as np\n",
    "rng = np.random.default_rng()\n",
    "arr = np.arange(15)\n",
    "arr #random array"
   ]
  },
  {
   "cell_type": "code",
   "execution_count": 4,
   "metadata": {},
   "outputs": [
    {
     "data": {
      "text/plain": [
       "array([ 0, 11, 13,  9,  1,  5,  7,  3,  4,  2,  8, 14, 12,  6, 10])"
      ]
     },
     "execution_count": 4,
     "metadata": {},
     "output_type": "execute_result"
    }
   ],
   "source": [
    "import numpy as np\n",
    "rng = np.random.default_rng()\n",
    "arr = np.arange(15)\n",
    "rng.permutation(15) #rerranged array"
   ]
  },
  {
   "cell_type": "markdown",
   "metadata": {},
   "source": [
    "A practical usage for the permutations method would be when generating a good password for a computer or website."
   ]
  },
  {
   "cell_type": "code",
   "execution_count": 7,
   "metadata": {},
   "outputs": [
    {
     "name": "stdout",
     "output_type": "stream",
     "text": [
      "Password is= ['t' 'G' '8' '1' 'z' 'J' '4' '6']\n"
     ]
    }
   ],
   "source": [
    "import numpy as np\n",
    "letnumb = np.array(['1', 'n', 'z', 'h', 't', '8', 'J', 'K', '6', '4', '9', 'G'])\n",
    "password = np.random.permutation(letnumb)\n",
    "print('Password is=', password[1:9])"
   ]
  },
  {
   "cell_type": "code",
   "execution_count": null,
   "metadata": {},
   "outputs": [],
   "source": []
  },
  {
   "cell_type": "markdown",
   "metadata": {},
   "source": [
    "References for Programming for Data Analytics Practical Task:\n",
    "\n",
    "https://www.pcg-random.org/index.html\n",
    "\n",
    "https://towardsdatascience.com/how-to-generate-pseudo-random-datasets-in-python-start-from-scratch-with-numpy-faker-c5661e3bc58b\n",
    "\n",
    "https://jupyter-notebook.readthedocs.io/en/stable/examples/Notebook/Working%20With%20Markdown%20Cells.html\n",
    "\n",
    "https://www.practicaldatascience.org/html/exercises/Exercise_numpy.html\n",
    "\n",
    "https://numpy.org/doc/stable/user/absolute_beginners.html#basic-array-operations\n",
    "\n",
    "https://numpy.org/doc/stable/reference/random/generator.html\n",
    "\n",
    "https://www.w3schools.com/python/numpy_random.asp\n",
    "\n",
    "https://numpy.org/doc/stable/reference/random/generated/numpy.random.Generator.integers.html#numpy.random.Generator.integers\n",
    "\n",
    "https://numpy.org/doc/stable/reference/random/generated/numpy.random.Generator.logistic.html#numpy.random.Generator.logistic\n",
    "\n",
    "https://github.com/oreillyh/Programming-for-DA---Assignments/blob/master/Programming%20for%20Data%20Analytics%20Assignment%201.ipynb\n",
    "\n",
    "https://en.wikipedia.org/wiki/Normal_distribution\n",
    "\n",
    "https://en.wikipedia.org/wiki/Exponential_distribution\n",
    "\n",
    "https://en.wikipedia.org/wiki/Logistic_distribution\n",
    "\n",
    "https://en.wikipedia.org/wiki/Poisson_distribution\n",
    "\n",
    "https://en.wikipedia.org/wiki/Binomial_distribution \n",
    "\n",
    "https://www.youtube.com/watch?v=kyjlxsLW1Is&ab_channel=zedstatistics"
   ]
  }
 ],
 "metadata": {
  "kernelspec": {
   "display_name": "Python 3",
   "language": "python",
   "name": "python3"
  },
  "language_info": {
   "codemirror_mode": {
    "name": "ipython",
    "version": 3
   },
   "file_extension": ".py",
   "mimetype": "text/x-python",
   "name": "python",
   "nbconvert_exporter": "python",
   "pygments_lexer": "ipython3",
   "version": "3.8.3"
  }
 },
 "nbformat": 4,
 "nbformat_minor": 4
}
